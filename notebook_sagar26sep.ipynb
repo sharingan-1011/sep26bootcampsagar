{
  "cells": [
    {
      "cell_type": "code",
      "execution_count": 2,
      "metadata": {
        "application/vnd.databricks.v1+cell": {
          "cellMetadata": {
            "byteLimit": 2048000,
            "rowLimit": 10000
          },
          "inputWidgets": {},
          "nuid": "5fd0b6ab-edcf-4e88-85fd-41164ee8ff75",
          "showTitle": false,
          "title": ""
        },
        "id": "x0OA5dPA6Vz9"
      },
      "outputs": [],
      "source": [
        "import pandas as pd\n",
        "import numpy as np\n",
        "import matplotlib.pyplot as plt"
      ]
    },
    {
      "cell_type": "code",
      "execution_count": 3,
      "metadata": {
        "application/vnd.databricks.v1+cell": {
          "cellMetadata": {
            "byteLimit": 2048000,
            "rowLimit": 10000
          },
          "inputWidgets": {},
          "nuid": "b77cb3d5-a7a9-4234-94c9-c8cce3ccc668",
          "showTitle": false,
          "title": ""
        },
        "colab": {
          "base_uri": "https://localhost:8080/"
        },
        "id": "87VQGMec6Vz-",
        "outputId": "ecb0ebd3-440b-471a-d625-086bbd9227c7"
      },
      "outputs": [
        {
          "output_type": "stream",
          "name": "stdout",
          "text": [
            "Sagar\n"
          ]
        }
      ],
      "source": [
        "print('Sagar')"
      ]
    },
    {
      "cell_type": "code",
      "execution_count": null,
      "metadata": {
        "application/vnd.databricks.v1+cell": {
          "cellMetadata": {
            "byteLimit": 2048000,
            "rowLimit": 10000
          },
          "inputWidgets": {},
          "nuid": "6e1b6291-0493-49ac-bc29-41b4d56037e8",
          "showTitle": false,
          "title": ""
        },
        "id": "SQO6K2wo6Vz_"
      },
      "outputs": [],
      "source": [
        "!ls"
      ]
    },
    {
      "cell_type": "code",
      "execution_count": 5,
      "metadata": {
        "application/vnd.databricks.v1+cell": {
          "cellMetadata": {
            "byteLimit": 2048000,
            "rowLimit": 10000
          },
          "inputWidgets": {},
          "nuid": "fa4a508d-56b7-4c68-85d6-09d7a3dc47ca",
          "showTitle": false,
          "title": ""
        },
        "id": "IBWw36YR6Vz_"
      },
      "outputs": [],
      "source": [
        "blob_account_name = 'sa26septnewsagar'\n",
        "blob_container_name = 'input'\n",
        "blob_relative_path = 'movie.csv'\n",
        "blob_sas_token = r\"sp=r&st=2023-09-26T10:41:31Z&se=2023-09-26T18:41:31Z&spr=https&sv=2022-11-02&sr=b&sig=FCiQXOyqAQ9m6vwTQDACRGIN0%2B6gWwho8L6d7tXKXaE%3D\""
      ]
    },
    {
      "cell_type": "code",
      "execution_count": null,
      "metadata": {
        "application/vnd.databricks.v1+cell": {
          "cellMetadata": {
            "byteLimit": 2048000,
            "rowLimit": 10000
          },
          "inputWidgets": {},
          "nuid": "80efcbf7-0987-4908-bc01-1b59ea36b847",
          "showTitle": false,
          "title": ""
        },
        "id": "UsAGLNhp6Vz_"
      },
      "outputs": [],
      "source": [
        "wasbs_path = \"wasbs://%s@%s.blob.core.windows.net/%s\"%(blob_container_name,blob_account_name,blob_relative_path)\n",
        "\n",
        "spark.conf.set('fs.azure.sas.%s.%s.blob.core.windows.net'%(blob_container_name,blob_account_name),blob_relative_path)\n",
        "\n"
      ]
    },
    {
      "cell_type": "code",
      "execution_count": null,
      "metadata": {
        "application/vnd.databricks.v1+cell": {
          "cellMetadata": {
            "byteLimit": 2048000,
            "rowLimit": 10000
          },
          "inputWidgets": {},
          "nuid": "93fa4ebb-0898-4a20-8c72-dbcaf72d0caa",
          "showTitle": false,
          "title": ""
        },
        "id": "oKEyr7Au6V0A"
      },
      "outputs": [],
      "source": [
        "df = spark.read.parquet(wasbs_path)"
      ]
    },
    {
      "cell_type": "code",
      "execution_count": null,
      "metadata": {
        "application/vnd.databricks.v1+cell": {
          "cellMetadata": {
            "byteLimit": 2048000,
            "rowLimit": 10000
          },
          "inputWidgets": {},
          "nuid": "3791d7b0-beff-472f-8d70-2800fc04bd2c",
          "showTitle": false,
          "title": ""
        },
        "id": "jWIeWw_f6V0A",
        "outputId": "7ecf742f-6508-418c-9717-81a71dfdae9e"
      },
      "outputs": [
        {
          "output_type": "display_data",
          "data": {
            "text/html": [
              "<style scoped>\n",
              "  .ansiout {\n",
              "    display: block;\n",
              "    unicode-bidi: embed;\n",
              "    white-space: pre-wrap;\n",
              "    word-wrap: break-word;\n",
              "    word-break: break-all;\n",
              "    font-family: \"Source Code Pro\", \"Menlo\", monospace;;\n",
              "    font-size: 13px;\n",
              "    color: #555;\n",
              "    margin-left: 4px;\n",
              "    line-height: 19px;\n",
              "  }\n",
              "</style>"
            ]
          },
          "metadata": {
            "application/vnd.databricks.v1+output": {
              "arguments": {},
              "data": "",
              "errorSummary": "Command skipped",
              "errorTraceType": "html",
              "metadata": {},
              "type": "ipynbError"
            }
          }
        }
      ],
      "source": [
        "df.createOrReplaceTempView('movies')"
      ]
    }
  ],
  "metadata": {
    "application/vnd.databricks.v1+notebook": {
      "dashboards": [],
      "language": "python",
      "notebookMetadata": {
        "mostRecentlyExecutedCommandWithImplicitDF": {
          "commandId": -1,
          "dataframes": [
            "_sqldf"
          ]
        },
        "pythonIndentUnit": 4
      },
      "notebookName": "Alyal unext 2023-09-26 11:33:37",
      "widgets": {}
    },
    "colab": {
      "provenance": []
    },
    "language_info": {
      "name": "python"
    },
    "kernelspec": {
      "name": "python3",
      "display_name": "Python 3"
    }
  },
  "nbformat": 4,
  "nbformat_minor": 0
}